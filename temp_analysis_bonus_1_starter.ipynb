{
 "cells": [
  {
   "cell_type": "markdown",
   "metadata": {},
   "source": [
    "# Bonus: Temperature Analysis I"
   ]
  },
  {
   "cell_type": "code",
   "execution_count": 24,
   "metadata": {},
   "outputs": [],
   "source": [
    "import pandas as pd\n",
    "from datetime import datetime as dt"
   ]
  },
  {
   "cell_type": "code",
   "execution_count": 25,
   "metadata": {},
   "outputs": [
    {
     "name": "stdout",
     "output_type": "stream",
     "text": [
      "           station        date  prcp  tobs\n",
      "0      USC00519397  2010-01-01  0.08    65\n",
      "1      USC00519397  2010-01-02  0.00    63\n",
      "2      USC00519397  2010-01-03  0.00    74\n",
      "3      USC00519397  2010-01-04  0.00    76\n",
      "4      USC00519397  2010-01-06   NaN    73\n",
      "...            ...         ...   ...   ...\n",
      "19545  USC00516128  2017-08-19  0.09    71\n",
      "19546  USC00516128  2017-08-20   NaN    78\n",
      "19547  USC00516128  2017-08-21  0.56    76\n",
      "19548  USC00516128  2017-08-22  0.50    76\n",
      "19549  USC00516128  2017-08-23  0.45    76\n",
      "\n",
      "[19550 rows x 4 columns]\n",
      "station     object\n",
      "date        object\n",
      "prcp       float64\n",
      "tobs         int64\n",
      "dtype: object\n"
     ]
    }
   ],
   "source": [
    "# \"tobs\" is \"temperature observations\"\n",
    "df = pd.read_csv('Resources/hawaii_measurements.csv')\n",
    "\n",
    "print(df)\n",
    "print (df.dtypes)"
   ]
  },
  {
   "cell_type": "code",
   "execution_count": 26,
   "metadata": {},
   "outputs": [
    {
     "name": "stdout",
     "output_type": "stream",
     "text": [
      "           station       date  prcp  tobs\n",
      "0      USC00519397 2010-01-01  0.08    65\n",
      "1      USC00519397 2010-01-02  0.00    63\n",
      "2      USC00519397 2010-01-03  0.00    74\n",
      "3      USC00519397 2010-01-04  0.00    76\n",
      "4      USC00519397 2010-01-06   NaN    73\n",
      "...            ...        ...   ...   ...\n",
      "19545  USC00516128 2017-08-19  0.09    71\n",
      "19546  USC00516128 2017-08-20   NaN    78\n",
      "19547  USC00516128 2017-08-21  0.56    76\n",
      "19548  USC00516128 2017-08-22  0.50    76\n",
      "19549  USC00516128 2017-08-23  0.45    76\n",
      "\n",
      "[19550 rows x 4 columns]\n",
      "station            object\n",
      "date       datetime64[ns]\n",
      "prcp              float64\n",
      "tobs                int64\n",
      "dtype: object\n"
     ]
    }
   ],
   "source": [
    "# Convert the date column format from string to datetime\n",
    "df['date'] = pd.to_datetime(df['date'], format= '%Y-%m-%d')\n",
    "print (df)\n",
    "print (df.dtypes)"
   ]
  },
  {
   "cell_type": "code",
   "execution_count": 27,
   "metadata": {},
   "outputs": [],
   "source": [
    "# Set the date column as the DataFrame index\n",
    "df1 = df.set_index('date')\n"
   ]
  },
  {
   "cell_type": "code",
   "execution_count": 28,
   "metadata": {},
   "outputs": [],
   "source": [
    "# Drop the date column"
   ]
  },
  {
   "cell_type": "markdown",
   "metadata": {},
   "source": [
    "### Compare June and December data across all years "
   ]
  },
  {
   "cell_type": "code",
   "execution_count": 29,
   "metadata": {},
   "outputs": [],
   "source": [
    "from scipy import stats\n",
    "# Python SQL toolkit and Object Relational Mapper\n",
    "import sqlalchemy\n",
    "from sqlalchemy.ext.automap import automap_base\n",
    "from sqlalchemy.orm import Session\n",
    "from sqlalchemy import create_engine, func, inspect"
   ]
  },
  {
   "cell_type": "code",
   "execution_count": 30,
   "metadata": {},
   "outputs": [],
   "source": [
    "engine = create_engine(\"sqlite:///Resources/hawaii.sqlite\")\n",
    "# reflect an existing database into a new model\n",
    "Base = automap_base()\n",
    "\n",
    "\n",
    "# reflect the tables\n",
    "Base.prepare(autoload_with=engine)\n",
    "# View all of the classes that automap found\n",
    "Base.classes.keys()\n",
    "# Save references to each table\n",
    "measurement = Base.classes.measurement\n",
    "station = Base.classes.station\n",
    "\n",
    "# Create our session (link) from Python to the DB\n",
    "session = Session(engine)"
   ]
  },
  {
   "cell_type": "code",
   "execution_count": 32,
   "metadata": {},
   "outputs": [
    {
     "ename": "ArgumentError",
     "evalue": "Column expression or FROM clause expected, got 0        65\n1        63\n2        74\n3        76\n4        73\n         ..\n19545    71\n19546    78\n19547    76\n19548    76\n19549    76\nName: tobs, Length: 19550, dtype: int64.",
     "output_type": "error",
     "traceback": [
      "\u001b[1;31m---------------------------------------------------------------------------\u001b[0m",
      "\u001b[1;31mArgumentError\u001b[0m                             Traceback (most recent call last)",
      "\u001b[1;32mc:\\Users\\ankit\\OneDrive\\Desktop\\sqlalchemy-challenge\\temp_analysis_bonus_1_starter.ipynb Cell 10\u001b[0m in \u001b[0;36m<cell line: 4>\u001b[1;34m()\u001b[0m\n\u001b[0;32m      <a href='vscode-notebook-cell:/c%3A/Users/ankit/OneDrive/Desktop/sqlalchemy-challenge/temp_analysis_bonus_1_starter.ipynb#X11sZmlsZQ%3D%3D?line=0'>1</a>\u001b[0m \u001b[39m# Filter data for desired months\u001b[39;00m\n\u001b[0;32m      <a href='vscode-notebook-cell:/c%3A/Users/ankit/OneDrive/Desktop/sqlalchemy-challenge/temp_analysis_bonus_1_starter.ipynb#X11sZmlsZQ%3D%3D?line=1'>2</a>\u001b[0m sel \u001b[39m=\u001b[39m [measurement\u001b[39m.\u001b[39mdate,\n\u001b[0;32m      <a href='vscode-notebook-cell:/c%3A/Users/ankit/OneDrive/Desktop/sqlalchemy-challenge/temp_analysis_bonus_1_starter.ipynb#X11sZmlsZQ%3D%3D?line=2'>3</a>\u001b[0m        df\u001b[39m.\u001b[39mtobs]\n\u001b[1;32m----> <a href='vscode-notebook-cell:/c%3A/Users/ankit/OneDrive/Desktop/sqlalchemy-challenge/temp_analysis_bonus_1_starter.ipynb#X11sZmlsZQ%3D%3D?line=3'>4</a>\u001b[0m June_temps \u001b[39m=\u001b[39m session\u001b[39m.\u001b[39;49mquery(\u001b[39m*\u001b[39;49msel)\u001b[39m.\u001b[39m\\\n\u001b[0;32m      <a href='vscode-notebook-cell:/c%3A/Users/ankit/OneDrive/Desktop/sqlalchemy-challenge/temp_analysis_bonus_1_starter.ipynb#X11sZmlsZQ%3D%3D?line=4'>5</a>\u001b[0m         \u001b[39mfilter\u001b[39m(func\u001b[39m.\u001b[39mstrftime(\u001b[39m'\u001b[39m\u001b[39m%\u001b[39m\u001b[39mm\u001b[39m\u001b[39m'\u001b[39m, df\u001b[39m.\u001b[39mdate) \u001b[39m==\u001b[39m \u001b[39m'\u001b[39m\u001b[39m06\u001b[39m\u001b[39m'\u001b[39m)\u001b[39m.\u001b[39mall()\n\u001b[0;32m      <a href='vscode-notebook-cell:/c%3A/Users/ankit/OneDrive/Desktop/sqlalchemy-challenge/temp_analysis_bonus_1_starter.ipynb#X11sZmlsZQ%3D%3D?line=5'>6</a>\u001b[0m December_temps \u001b[39m=\u001b[39m session\u001b[39m.\u001b[39mquery(\u001b[39m*\u001b[39msel)\u001b[39m.\u001b[39m\\\n\u001b[0;32m      <a href='vscode-notebook-cell:/c%3A/Users/ankit/OneDrive/Desktop/sqlalchemy-challenge/temp_analysis_bonus_1_starter.ipynb#X11sZmlsZQ%3D%3D?line=6'>7</a>\u001b[0m         \u001b[39mfilter\u001b[39m(func\u001b[39m.\u001b[39mstrftime(\u001b[39m'\u001b[39m\u001b[39m%\u001b[39m\u001b[39mm\u001b[39m\u001b[39m'\u001b[39m, df\u001b[39m.\u001b[39mdate) \u001b[39m==\u001b[39m \u001b[39m'\u001b[39m\u001b[39m12\u001b[39m\u001b[39m'\u001b[39m)\u001b[39m.\u001b[39mall()\n\u001b[0;32m      <a href='vscode-notebook-cell:/c%3A/Users/ankit/OneDrive/Desktop/sqlalchemy-challenge/temp_analysis_bonus_1_starter.ipynb#X11sZmlsZQ%3D%3D?line=8'>9</a>\u001b[0m June_df \u001b[39m=\u001b[39m pd\u001b[39m.\u001b[39mDataFrame(June_temps,columns\u001b[39m=\u001b[39m[\u001b[39m\"\u001b[39m\u001b[39mDate\u001b[39m\u001b[39m\"\u001b[39m,\u001b[39m\"\u001b[39m\u001b[39mTemperature\u001b[39m\u001b[39m\"\u001b[39m])\n",
      "File \u001b[1;32mc:\\Users\\ankit\\anaconda3\\lib\\site-packages\\sqlalchemy\\orm\\session.py:2139\u001b[0m, in \u001b[0;36mSession.query\u001b[1;34m(self, *entities, **kwargs)\u001b[0m\n\u001b[0;32m   2133\u001b[0m \u001b[39mdef\u001b[39;00m \u001b[39mquery\u001b[39m(\u001b[39mself\u001b[39m, \u001b[39m*\u001b[39mentities, \u001b[39m*\u001b[39m\u001b[39m*\u001b[39mkwargs):\n\u001b[0;32m   2134\u001b[0m     \u001b[39m\"\"\"Return a new :class:`_query.Query` object corresponding to this\u001b[39;00m\n\u001b[0;32m   2135\u001b[0m \u001b[39m    :class:`_orm.Session`.\u001b[39;00m\n\u001b[0;32m   2136\u001b[0m \n\u001b[0;32m   2137\u001b[0m \u001b[39m    \"\"\"\u001b[39;00m\n\u001b[1;32m-> 2139\u001b[0m     \u001b[39mreturn\u001b[39;00m \u001b[39mself\u001b[39m\u001b[39m.\u001b[39m_query_cls(entities, \u001b[39mself\u001b[39m, \u001b[39m*\u001b[39m\u001b[39m*\u001b[39mkwargs)\n",
      "File \u001b[1;32mc:\\Users\\ankit\\anaconda3\\lib\\site-packages\\sqlalchemy\\orm\\query.py:180\u001b[0m, in \u001b[0;36mQuery.__init__\u001b[1;34m(self, entities, session)\u001b[0m\n\u001b[0;32m    152\u001b[0m \u001b[39m\"\"\"Construct a :class:`_query.Query` directly.\u001b[39;00m\n\u001b[0;32m    153\u001b[0m \n\u001b[0;32m    154\u001b[0m \u001b[39mE.g.::\u001b[39;00m\n\u001b[1;32m   (...)\u001b[0m\n\u001b[0;32m    176\u001b[0m \n\u001b[0;32m    177\u001b[0m \u001b[39m\"\"\"\u001b[39;00m\n\u001b[0;32m    179\u001b[0m \u001b[39mself\u001b[39m\u001b[39m.\u001b[39msession \u001b[39m=\u001b[39m session\n\u001b[1;32m--> 180\u001b[0m \u001b[39mself\u001b[39;49m\u001b[39m.\u001b[39;49m_set_entities(entities)\n",
      "File \u001b[1;32mc:\\Users\\ankit\\anaconda3\\lib\\site-packages\\sqlalchemy\\orm\\query.py:187\u001b[0m, in \u001b[0;36mQuery._set_entities\u001b[1;34m(self, entities)\u001b[0m\n\u001b[0;32m    186\u001b[0m \u001b[39mdef\u001b[39;00m \u001b[39m_set_entities\u001b[39m(\u001b[39mself\u001b[39m, entities):\n\u001b[1;32m--> 187\u001b[0m     \u001b[39mself\u001b[39m\u001b[39m.\u001b[39m_raw_columns \u001b[39m=\u001b[39m [\n\u001b[0;32m    188\u001b[0m         coercions\u001b[39m.\u001b[39mexpect(\n\u001b[0;32m    189\u001b[0m             roles\u001b[39m.\u001b[39mColumnsClauseRole,\n\u001b[0;32m    190\u001b[0m             ent,\n\u001b[0;32m    191\u001b[0m             apply_propagate_attrs\u001b[39m=\u001b[39m\u001b[39mself\u001b[39m,\n\u001b[0;32m    192\u001b[0m             post_inspect\u001b[39m=\u001b[39m\u001b[39mTrue\u001b[39;00m,\n\u001b[0;32m    193\u001b[0m         )\n\u001b[0;32m    194\u001b[0m         \u001b[39mfor\u001b[39;00m ent \u001b[39min\u001b[39;00m util\u001b[39m.\u001b[39mto_list(entities)\n\u001b[0;32m    195\u001b[0m     ]\n",
      "File \u001b[1;32mc:\\Users\\ankit\\anaconda3\\lib\\site-packages\\sqlalchemy\\orm\\query.py:188\u001b[0m, in \u001b[0;36m<listcomp>\u001b[1;34m(.0)\u001b[0m\n\u001b[0;32m    186\u001b[0m \u001b[39mdef\u001b[39;00m \u001b[39m_set_entities\u001b[39m(\u001b[39mself\u001b[39m, entities):\n\u001b[0;32m    187\u001b[0m     \u001b[39mself\u001b[39m\u001b[39m.\u001b[39m_raw_columns \u001b[39m=\u001b[39m [\n\u001b[1;32m--> 188\u001b[0m         coercions\u001b[39m.\u001b[39;49mexpect(\n\u001b[0;32m    189\u001b[0m             roles\u001b[39m.\u001b[39;49mColumnsClauseRole,\n\u001b[0;32m    190\u001b[0m             ent,\n\u001b[0;32m    191\u001b[0m             apply_propagate_attrs\u001b[39m=\u001b[39;49m\u001b[39mself\u001b[39;49m,\n\u001b[0;32m    192\u001b[0m             post_inspect\u001b[39m=\u001b[39;49m\u001b[39mTrue\u001b[39;49;00m,\n\u001b[0;32m    193\u001b[0m         )\n\u001b[0;32m    194\u001b[0m         \u001b[39mfor\u001b[39;00m ent \u001b[39min\u001b[39;00m util\u001b[39m.\u001b[39mto_list(entities)\n\u001b[0;32m    195\u001b[0m     ]\n",
      "File \u001b[1;32mc:\\Users\\ankit\\anaconda3\\lib\\site-packages\\sqlalchemy\\sql\\coercions.py:188\u001b[0m, in \u001b[0;36mexpect\u001b[1;34m(role, element, apply_propagate_attrs, argname, post_inspect, **kw)\u001b[0m\n\u001b[0;32m    185\u001b[0m                 impl\u001b[39m.\u001b[39m_raise_for_expected(original_element, argname)\n\u001b[0;32m    187\u001b[0m     \u001b[39mif\u001b[39;00m resolved \u001b[39mis\u001b[39;00m \u001b[39mNone\u001b[39;00m:\n\u001b[1;32m--> 188\u001b[0m         resolved \u001b[39m=\u001b[39m impl\u001b[39m.\u001b[39m_literal_coercion(\n\u001b[0;32m    189\u001b[0m             element, argname\u001b[39m=\u001b[39margname, \u001b[39m*\u001b[39m\u001b[39m*\u001b[39mkw\n\u001b[0;32m    190\u001b[0m         )\n\u001b[0;32m    191\u001b[0m \u001b[39melse\u001b[39;00m:\n\u001b[0;32m    192\u001b[0m     resolved \u001b[39m=\u001b[39m element\n",
      "File \u001b[1;32mc:\\Users\\ankit\\anaconda3\\lib\\site-packages\\sqlalchemy\\sql\\coercions.py:401\u001b[0m, in \u001b[0;36m_CoerceLiterals._literal_coercion\u001b[1;34m(self, element, argname, **kw)\u001b[0m\n\u001b[0;32m    398\u001b[0m \u001b[39mif\u001b[39;00m \u001b[39mself\u001b[39m\u001b[39m.\u001b[39m_coerce_numerics \u001b[39mand\u001b[39;00m \u001b[39misinstance\u001b[39m(element, (numbers\u001b[39m.\u001b[39mNumber)):\n\u001b[0;32m    399\u001b[0m     \u001b[39mreturn\u001b[39;00m elements\u001b[39m.\u001b[39mColumnClause(\u001b[39mstr\u001b[39m(element), is_literal\u001b[39m=\u001b[39m\u001b[39mTrue\u001b[39;00m)\n\u001b[1;32m--> 401\u001b[0m \u001b[39mself\u001b[39;49m\u001b[39m.\u001b[39;49m_raise_for_expected(element, argname)\n",
      "File \u001b[1;32mc:\\Users\\ankit\\anaconda3\\lib\\site-packages\\sqlalchemy\\sql\\coercions.py:437\u001b[0m, in \u001b[0;36m_SelectIsNotFrom._raise_for_expected\u001b[1;34m(self, element, argname, resolved, **kw)\u001b[0m\n\u001b[0;32m    434\u001b[0m \u001b[39melse\u001b[39;00m:\n\u001b[0;32m    435\u001b[0m     advice \u001b[39m=\u001b[39m code \u001b[39m=\u001b[39m \u001b[39mNone\u001b[39;00m\n\u001b[1;32m--> 437\u001b[0m \u001b[39mreturn\u001b[39;00m \u001b[39msuper\u001b[39m(_SelectIsNotFrom, \u001b[39mself\u001b[39m)\u001b[39m.\u001b[39m_raise_for_expected(\n\u001b[0;32m    438\u001b[0m     element,\n\u001b[0;32m    439\u001b[0m     argname\u001b[39m=\u001b[39margname,\n\u001b[0;32m    440\u001b[0m     resolved\u001b[39m=\u001b[39mresolved,\n\u001b[0;32m    441\u001b[0m     advice\u001b[39m=\u001b[39madvice,\n\u001b[0;32m    442\u001b[0m     code\u001b[39m=\u001b[39mcode,\n\u001b[0;32m    443\u001b[0m     \u001b[39m*\u001b[39m\u001b[39m*\u001b[39mkw\n\u001b[0;32m    444\u001b[0m )\n",
      "File \u001b[1;32mc:\\Users\\ankit\\anaconda3\\lib\\site-packages\\sqlalchemy\\sql\\coercions.py:283\u001b[0m, in \u001b[0;36mRoleImpl._raise_for_expected\u001b[1;34m(self, element, argname, resolved, advice, code, err)\u001b[0m\n\u001b[0;32m    280\u001b[0m \u001b[39mif\u001b[39;00m advice:\n\u001b[0;32m    281\u001b[0m     msg \u001b[39m+\u001b[39m\u001b[39m=\u001b[39m \u001b[39m\"\u001b[39m\u001b[39m \u001b[39m\u001b[39m\"\u001b[39m \u001b[39m+\u001b[39m advice\n\u001b[1;32m--> 283\u001b[0m util\u001b[39m.\u001b[39;49mraise_(exc\u001b[39m.\u001b[39;49mArgumentError(msg, code\u001b[39m=\u001b[39;49mcode), replace_context\u001b[39m=\u001b[39;49merr)\n",
      "File \u001b[1;32mc:\\Users\\ankit\\anaconda3\\lib\\site-packages\\sqlalchemy\\util\\compat.py:207\u001b[0m, in \u001b[0;36mraise_\u001b[1;34m(***failed resolving arguments***)\u001b[0m\n\u001b[0;32m    204\u001b[0m     exception\u001b[39m.\u001b[39m__cause__ \u001b[39m=\u001b[39m replace_context\n\u001b[0;32m    206\u001b[0m \u001b[39mtry\u001b[39;00m:\n\u001b[1;32m--> 207\u001b[0m     \u001b[39mraise\u001b[39;00m exception\n\u001b[0;32m    208\u001b[0m \u001b[39mfinally\u001b[39;00m:\n\u001b[0;32m    209\u001b[0m     \u001b[39m# credit to\u001b[39;00m\n\u001b[0;32m    210\u001b[0m     \u001b[39m# https://cosmicpercolator.com/2016/01/13/exception-leaks-in-python-2-and-3/\u001b[39;00m\n\u001b[0;32m    211\u001b[0m     \u001b[39m# as the __traceback__ object creates a cycle\u001b[39;00m\n\u001b[0;32m    212\u001b[0m     \u001b[39mdel\u001b[39;00m exception, replace_context, from_, with_traceback\n",
      "\u001b[1;31mArgumentError\u001b[0m: Column expression or FROM clause expected, got 0        65\n1        63\n2        74\n3        76\n4        73\n         ..\n19545    71\n19546    78\n19547    76\n19548    76\n19549    76\nName: tobs, Length: 19550, dtype: int64."
     ]
    }
   ],
   "source": [
    "# Filter data for desired months\n",
    "sel = [measurement.date,\n",
    "       df.tobs]\n",
    "June_temps = session.query(*sel).\\\n",
    "        filter(func.strftime('%m', df.date) == '06').all()\n",
    "December_temps = session.query(*sel).\\\n",
    "        filter(func.strftime('%m', df.date) == '12').all()\n",
    "\n",
    "June_df = pd.DataFrame(June_temps,columns=[\"Date\",\"Temperature\"])\n",
    "December_df = pd.DataFrame(December_temps,columns=[\"Date\",\"Temperature\"])"
   ]
  },
  {
   "cell_type": "code",
   "execution_count": null,
   "metadata": {},
   "outputs": [],
   "source": [
    "# Identify the average temperature for June"
   ]
  },
  {
   "cell_type": "code",
   "execution_count": null,
   "metadata": {},
   "outputs": [],
   "source": [
    "# Identify the average temperature for December"
   ]
  },
  {
   "cell_type": "code",
   "execution_count": null,
   "metadata": {},
   "outputs": [],
   "source": [
    "# Create collections of temperature data"
   ]
  },
  {
   "cell_type": "code",
   "execution_count": null,
   "metadata": {},
   "outputs": [],
   "source": [
    "# Run paired t-test"
   ]
  },
  {
   "cell_type": "markdown",
   "metadata": {},
   "source": [
    "### Analysis"
   ]
  },
  {
   "cell_type": "code",
   "execution_count": null,
   "metadata": {},
   "outputs": [],
   "source": []
  }
 ],
 "metadata": {
  "kernelspec": {
   "display_name": "base",
   "language": "python",
   "name": "python3"
  },
  "language_info": {
   "codemirror_mode": {
    "name": "ipython",
    "version": 3
   },
   "file_extension": ".py",
   "mimetype": "text/x-python",
   "name": "python",
   "nbconvert_exporter": "python",
   "pygments_lexer": "ipython3",
   "version": "3.9.12 (main, Apr  4 2022, 05:22:27) [MSC v.1916 64 bit (AMD64)]"
  },
  "vscode": {
   "interpreter": {
    "hash": "2e3f33852672ac4a073d79af74b37fc9961212be18150672fcb2b3607e50fc72"
   }
  }
 },
 "nbformat": 4,
 "nbformat_minor": 4
}
